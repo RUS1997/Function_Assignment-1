{
  "nbformat": 4,
  "nbformat_minor": 0,
  "metadata": {
    "colab": {
      "provenance": []
    },
    "kernelspec": {
      "name": "python3",
      "display_name": "Python 3"
    },
    "language_info": {
      "name": "python"
    }
  },
  "cells": [
    {
      "cell_type": "code",
      "execution_count": null,
      "metadata": {
        "id": "ckEFlcn2bfex"
      },
      "outputs": [],
      "source": []
    },
    {
      "cell_type": "markdown",
      "source": [
        "# Theory Questions:\n",
        "1. What is the difference between a function and a method in Python?\n",
        "   - Function: A block of code defined using def that can be called independently.\n",
        "   - Method: A function that is associated with an object (typically a class instance).\n",
        "2. Explain the concept of function arguments and parameters in Python.\n",
        "   - Parameters: Variables listed in a function definition.\n",
        "   - Arguments: Values passed to the function when it's called.\n",
        "3. What are the different ways to define and call a function in Python?\n",
        "   - Define using def or lambda.\n",
        "   - Call by its name with arguments.\n",
        "4. What is the purpose of the \"return statement in a Python function?\n",
        "   - It exits the function and sends back a value to the caller.\n",
        "5. What are iterators in Python and how do they differ from iterables?\n",
        "   - Iterable: An object we can iterate over (like a list).\n",
        "   - Iterator: An object with __next__() and __iter__() methods.\n",
        "6. Explain the concept of generators in Python and how they are defined.\n",
        "   - Generators are special iterators that yield values one at a time using yield.\n",
        "7. What are the advantages of using generators over regular functions?\n",
        "   - Memory-efficient (no need to store all values at once)\n",
        "   - Can handle infinite sequences\n",
        "   - Lazy evaluation (values produced as needed)\n",
        "8. What is a lambda function in Python and when is it typically used?\n",
        "   - An anonymous, single-expression function, often used for short, throwaway functions.\n",
        "9. Explain the purpose and usage of the map() function in Python.\n",
        "   - map() applies a function to every item of an iterable and returns a map object.\n",
        "10. What is the difference between 'map()', 'reduce()', and 'filter()' functions in Python?\n",
        "   - map(func, iterable): Applies function to all elements\n",
        "   - filter(func, iterable): Filters elements where func returns True\n",
        "   - reduce(func, iterable): Applies function cumulatively to reduce iterable to a single value\n",
        "11. Using pen & Paper write the internal mechanism for sum operation using reduce function on this given list: [47,11,42,13]:\n",
        "   - from functools import reduce\n",
        "   reduce(lambda x, y: x + y, [47, 11, 42, 13])"
      ],
      "metadata": {
        "id": "l6-XqB8QblwL"
      }
    },
    {
      "cell_type": "code",
      "source": [
        "# Practical Questions:"
      ],
      "metadata": {
        "id": "Of6CEOkArmd-"
      },
      "execution_count": null,
      "outputs": []
    },
    {
      "cell_type": "code",
      "source": [
        "#Q1. Write a Python function that takes a list of numbers as input and returns the sum of all even numbers in the list.\n",
        "def sum_even_numbers(numbers):\n",
        "  return sum(num for num in numbers if num % 2 == 0)"
      ],
      "metadata": {
        "id": "ZjaT10nKsnQs"
      },
      "execution_count": 6,
      "outputs": []
    },
    {
      "cell_type": "code",
      "source": [
        "#Q2. Create a Python function that accepts a string and returns the reverse of that string.\n",
        "def reverse_string(s):\n",
        "  return s[::-1]"
      ],
      "metadata": {
        "id": "0UhA_LhFtfte"
      },
      "execution_count": 7,
      "outputs": []
    },
    {
      "cell_type": "code",
      "source": [
        "#Q3. Implement a Python function that takes a list of integers and returns a new list containing the squares of each number.\n",
        "def square_list(numbers):\n",
        "  return [num ** 2 for num in numbers]"
      ],
      "metadata": {
        "id": "KduVlbkittFb"
      },
      "execution_count": 8,
      "outputs": []
    },
    {
      "cell_type": "code",
      "source": [
        "#Q4. Write a Python function that checks if a given number is prime or not from 1 to 200.\n",
        "def is_prime(n):\n",
        "  if n <= 1:\n",
        "    return False\n",
        "    for i in range(2, int(n ** 0.5) + 1):\n",
        "      if n % i == 0:\n",
        "        return False\n",
        "        return True"
      ],
      "metadata": {
        "id": "telO1NcFuIRA"
      },
      "execution_count": 9,
      "outputs": []
    },
    {
      "cell_type": "code",
      "source": [
        "#Q5. Create an iterator class in Python that generates the Fibonacci sequence up to a specified number of terms.\n",
        "class Fibonacci:\n",
        "  def __init__(self, max_terms):\n",
        "    self.max_terms = max_terms\n",
        "    self.count = 0\n",
        "    self.a, self.b = 0, 1\n",
        "    def __iter__(self):\n",
        "      return self\n",
        "      def __next__(self):\n",
        "        if self.count >= self.max_terms:\n",
        "          raise StopIteration\n",
        "          if self.count == 0:\n",
        "            self.count += 1"
      ],
      "metadata": {
        "id": "1xsJl1k1ubN0"
      },
      "execution_count": 21,
      "outputs": []
    },
    {
      "cell_type": "code",
      "source": [
        "#Q6. Write a generator function in Python that yields the powers of 2 up to a given exponent.\n",
        "def powers_of_two(max_exponent):\n",
        "  for i in range(max_exponent + 1):\n",
        "    yield 2 ** i"
      ],
      "metadata": {
        "id": "KHalvbP9u_rX"
      },
      "execution_count": 10,
      "outputs": []
    },
    {
      "cell_type": "code",
      "source": [
        "#Q7. Implement a generator function that reads a file line by line and yields each line as a string.\n",
        "def read_lines(filename):\n",
        "  with open(filename, 'r') as file:\n",
        "    for line in file:\n",
        "      yield line.rstrip('\\n')"
      ],
      "metadata": {
        "id": "i3mhuYOivVhw"
      },
      "execution_count": 11,
      "outputs": []
    },
    {
      "cell_type": "code",
      "source": [
        "#Q8. Use a lambda function in Python to sort a list of tuples based on the second element of each tuple.\n",
        "data = [('apple', 3), ('banana', 1), ('cherry', 2)]\n",
        "sorted_data = sorted(data, key=lambda x: x[1])"
      ],
      "metadata": {
        "id": "56ETPt7Rv74g"
      },
      "execution_count": 12,
      "outputs": []
    },
    {
      "cell_type": "code",
      "source": [
        "#Q9. Write a Python program that uses 'map() to convert a list of temperatures from Celsius to Fahrenheit.\n",
        "celsius = [0, 20, 37, 100]\n",
        "fahrenheit = list(map(lambda c: (c * 9/5) + 32, celsius))"
      ],
      "metadata": {
        "id": "PFiSpKuOvweh"
      },
      "execution_count": 13,
      "outputs": []
    },
    {
      "cell_type": "code",
      "source": [
        "#Q10. Create a Python program that uses 'filter()' to remove all the vowels from a given string.\n",
        "def remove_vowels(s):\n",
        "    return ''.join(filter(lambda x: x.lower() not in 'aeiou', s))"
      ],
      "metadata": {
        "id": "WDWiYMNZwPTw"
      },
      "execution_count": 14,
      "outputs": []
    },
    {
      "cell_type": "code",
      "source": [
        "#Q11. Imagine an accounting routine used in a book shop. It works on a list with sublists, which look like this:Write a Python program, which returns a list with 2-tuples. Each tuple consists of the order number and the product of the price per item and the quantity. The product should be increased by 10,- € if the value of the order is smaller than 100,00 €. Write a Python program using lambda and map\n",
        "\n",
        "orders = [\n",
        "    [34587, \"Learning Python, Mark Lutz\", 4, 40.95],\n",
        "    [98762, \"Programming Python, Mark Lutz\", 5, 56.80],\n",
        "    [77226, \"Head First Python, Paul Barry\", 3, 32.95],\n",
        "    [88112, \"Einführung in Python3, Bernd Klein\", 3, 24.99]\n",
        "]\n",
        "order_totals = list(map(lambda order: (order[0], round(order[2] * order[3] + 10 if order[2] * order[3] < 100 else order[2] * order[3], 2)), orders))"
      ],
      "metadata": {
        "id": "Bmnp1AByweEA"
      },
      "execution_count": 19,
      "outputs": []
    }
  ]
}